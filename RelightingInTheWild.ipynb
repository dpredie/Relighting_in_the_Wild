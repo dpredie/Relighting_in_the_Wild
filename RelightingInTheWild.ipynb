{
  "nbformat": 4,
  "nbformat_minor": 0,
  "metadata": {
    "colab": {
      "provenance": [],
      "gpuType": "T4",
      "authorship_tag": "ABX9TyO88a8Tcd5lJ+MNXROE+M8l",
      "include_colab_link": true
    },
    "kernelspec": {
      "name": "python3",
      "display_name": "Python 3"
    },
    "language_info": {
      "name": "python"
    },
    "accelerator": "GPU"
  },
  "cells": [
    {
      "cell_type": "markdown",
      "metadata": {
        "id": "view-in-github",
        "colab_type": "text"
      },
      "source": [
        "<a href=\"https://colab.research.google.com/github/dpredie/Relighting_in_the_Wild/blob/main/RelightingInTheWild.ipynb\" target=\"_parent\"><img src=\"https://colab.research.google.com/assets/colab-badge.svg\" alt=\"Open In Colab\"/></a>"
      ]
    },
    {
      "cell_type": "code",
      "execution_count": 1,
      "metadata": {
        "id": "PHkoQlx3541g"
      },
      "outputs": [],
      "source": [
        "!mkdir -p inputs\n",
        "!mkdir -p output_img\n",
        "!mkdir -p output_vid\n"
      ]
    },
    {
      "cell_type": "code",
      "source": [
        "# Clone git repo\n",
        "!git clone https://github.com/majita06/Relighting_in_the_Wild.git\n",
        "\n",
        "# !wget https://sfu.ca/~yagiz/CVPR21/latest_net_G.pth\n",
        "\n",
        "# https://drive.google.com/file/d/1K-VOo5jbSBInsbsKqK2PBkIaqIMAFaWs/view?usp=drive_link\n",
        "# https://drive.google.com/file/d/1_-W3NL0rEMbvX5QrVYoeTeHUa-R_37Qe/view?usp=drive_link\n",
        "!gdown https://drive.google.com/u/0/uc?id=1K-VOo5jbSBInsbsKqK2PBkIaqIMAFaWs&export=download\n",
        "\n",
        "\n",
        "!gdown https://drive.google.com/u/0/uc?id=1_-W3NL0rEMbvX5QrVYoeTeHUa-R_37Qe&export=download"
      ],
      "metadata": {
        "id": "eKOIwBgL6MQw"
      },
      "execution_count": null,
      "outputs": []
    }
  ]
}